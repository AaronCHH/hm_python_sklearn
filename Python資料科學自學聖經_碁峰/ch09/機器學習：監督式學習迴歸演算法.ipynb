{
  "nbformat": 4,
  "nbformat_minor": 0,
  "metadata": {
    "colab": {
      "name": "機器學習：監督式學習迴歸演算法.ipynb",
      "provenance": [],
      "collapsed_sections": []
    },
    "kernelspec": {
      "name": "python3",
      "display_name": "Python 3"
    },
    "language_info": {
      "name": "python"
    }
  },
  "cells": [
    {
      "cell_type": "markdown",
      "source": [
        "## 正規方程法線性迴歸"
      ],
      "metadata": {
        "id": "s6lG9ZxsyZz1"
      }
    },
    {
      "cell_type": "code",
      "source": [
        "from sklearn.model_selection import train_test_split\n",
        "from sklearn.linear_model import LinearRegression\n",
        "from sklearn.preprocessing import StandardScaler\n",
        "from sklearn.metrics import mean_squared_error\n",
        "import pandas as pd\n",
        "\n",
        "hp = pd.read_csv('housePrice.csv')\n",
        "x = hp.iloc[:, 0:12]\n",
        "y = hp.iloc[:, 12]\n",
        "x_train, x_test, y_train, y_test = train_test_split(\n",
        "    x, y, test_size=0.2)\n",
        "std_x = StandardScaler()\n",
        "x_train = std_x.fit_transform(x_train)\n",
        "x_test = std_x.transform(x_test)\n",
        "std_y = StandardScaler()\n",
        "y_train = std_y.fit_transform(y_train.to_numpy().reshape(-1, 1))\n",
        "y_test = std_y.transform(y_test.to_numpy().reshape(-1, 1))\n",
        "lr = LinearRegression()\n",
        "lr.fit(x_train, y_train)\n",
        "print('權重值：{}'.format(lr.coef_)) \n",
        "print('偏置值：{}'.format(lr.intercept_))"
      ],
      "metadata": {
        "id": "ZLOGfXXWZO5W",
        "colab": {
          "base_uri": "https://localhost:8080/"
        },
        "outputId": "68b95dbe-1f94-499c-e16c-7f6a04eb3d6c"
      },
      "execution_count": null,
      "outputs": [
        {
          "output_type": "stream",
          "name": "stdout",
          "text": [
            "權重值：[[-0.09811456  0.12152492  0.03341199  0.04474076 -0.26927931  0.27203246\n",
            "   0.03958009 -0.33583873  0.3018656  -0.28971572 -0.24033746 -0.42558369]]\n",
            "偏置值：[-2.90515995e-16]\n"
          ]
        }
      ]
    },
    {
      "cell_type": "code",
      "source": [
        "y_predict = std_y.inverse_transform(lr.predict(x_test))\n",
        "y_real = std_y.inverse_transform(y_test)\n",
        "for i in range(10):\n",
        "  print('預測值：{}，真實值：{}'.format(y_predict[i], y_real[i]))"
      ],
      "metadata": {
        "id": "-7bLEg-f4Sbn",
        "colab": {
          "base_uri": "https://localhost:8080/"
        },
        "outputId": "c2f6472d-edda-4465-9650-dbf3206500cc"
      },
      "execution_count": null,
      "outputs": [
        {
          "output_type": "stream",
          "name": "stdout",
          "text": [
            "預測值：[21.60838422]，真實值：[20.5]\n",
            "預測值：[18.52143523]，真實值：[14.6]\n",
            "預測值：[40.69299062]，真實值：[50.]\n",
            "預測值：[28.78726975]，真實值：[23.3]\n",
            "預測值：[19.02963563]，真實值：[16.1]\n",
            "預測值：[28.40047238]，真實值：[28.]\n",
            "預測值：[21.28917566]，真實值：[21.]\n",
            "預測值：[15.24163339]，真實值：[13.5]\n",
            "預測值：[14.29263085]，真實值：[18.2]\n",
            "預測值：[19.59855943]，真實值：[18.5]\n"
          ]
        }
      ]
    },
    {
      "cell_type": "code",
      "source": [
        "merror = mean_squared_error(y_real, y_predict)\n",
        "print('平均方差：{}'.format(merror))"
      ],
      "metadata": {
        "id": "cJLkwoVr4YzU",
        "colab": {
          "base_uri": "https://localhost:8080/"
        },
        "outputId": "fa9382fc-7da2-419f-926f-ba288f9bb7dc"
      },
      "execution_count": null,
      "outputs": [
        {
          "output_type": "stream",
          "name": "stdout",
          "text": [
            "平均方差：22.86062557102978\n"
          ]
        }
      ]
    },
    {
      "cell_type": "markdown",
      "source": [
        "## 梯度下降法線性迴歸"
      ],
      "metadata": {
        "id": "0qFJW47hTPwn"
      }
    },
    {
      "cell_type": "code",
      "source": [
        "from sklearn.model_selection import train_test_split\n",
        "from sklearn.linear_model import SGDRegressor\n",
        "from sklearn.preprocessing import StandardScaler\n",
        "from sklearn.metrics import mean_squared_error\n",
        "import pandas as pd\n",
        "\n",
        "hp = pd.read_csv('housePrice.csv')\n",
        "x = hp.iloc[:, 0:12]\n",
        "y = hp.iloc[:, 12]\n",
        "x_train, x_test, y_train, y_test = train_test_split(x, y, test_size=0.2)\n",
        "std_x = StandardScaler()\n",
        "x_train = std_x.fit_transform(x_train)\n",
        "x_test = std_x.transform(x_test)\n",
        "std_y = StandardScaler()\n",
        "y_train = std_y.fit_transform(y_train.to_numpy().reshape(-1, 1))\n",
        "y_test = std_y.transform(y_test.to_numpy().reshape(-1, 1))\n",
        "sgd = SGDRegressor()\n",
        "sgd.fit(x_train, y_train)\n",
        "print('權重值：{}'.format(sgd.coef_)) \n",
        "print('偏置值：{}'.format(sgd.intercept_))\n",
        "y_predict = std_y.inverse_transform(sgd.predict(x_test).reshape(-1, 1))\n",
        "y_real = std_y.inverse_transform(y_test)\n",
        "for i in range(10):\n",
        "  print('預測值：{}，真實值：{}'.format(y_predict[i], y_real[i]))\n",
        "merror = mean_squared_error(y_real, y_predict)\n",
        "print('平均方差：{}'.format(merror))"
      ],
      "metadata": {
        "id": "kR-bIAZGTRS_",
        "colab": {
          "base_uri": "https://localhost:8080/"
        },
        "outputId": "3bbbd664-e168-4186-ac93-cf87039ad491"
      },
      "execution_count": null,
      "outputs": [
        {
          "output_type": "stream",
          "name": "stdout",
          "text": [
            "權重值：[-0.07099359  0.10868226 -0.05083439  0.12096582 -0.16131473  0.31451336\n",
            "  0.03429864 -0.25799864  0.17064823 -0.10969534 -0.19796035 -0.4147111 ]\n",
            "偏置值：[0.00198545]\n",
            "預測值：[26.00212708]，真實值：[23.1]\n",
            "預測值：[19.86820805]，真實值：[19.2]\n",
            "預測值：[16.13268522]，真實值：[11.]\n",
            "預測值：[23.78413949]，真實值：[29.6]\n",
            "預測值：[9.07227135]，真實值：[9.7]\n",
            "預測值：[28.20226233]，真實值：[36.2]\n",
            "預測值：[19.13647049]，真實值：[18.5]\n",
            "預測值：[15.94978279]，真實值：[10.4]\n",
            "預測值：[21.86792019]，真實值：[11.9]\n",
            "預測值：[17.08719527]，真實值：[22.5]\n",
            "平均方差：32.28242514882645\n"
          ]
        },
        {
          "output_type": "stream",
          "name": "stderr",
          "text": [
            "/usr/local/lib/python3.7/dist-packages/sklearn/utils/validation.py:993: DataConversionWarning: A column-vector y was passed when a 1d array was expected. Please change the shape of y to (n_samples, ), for example using ravel().\n",
            "  y = column_or_1d(y, warn=True)\n"
          ]
        }
      ]
    },
    {
      "cell_type": "markdown",
      "source": [
        "## 邏輯迴歸應用：判斷是否罹癌"
      ],
      "metadata": {
        "id": "cpxRd9MzgFOb"
      }
    },
    {
      "cell_type": "code",
      "source": [
        "import pandas as pd\n",
        "from sklearn.model_selection import train_test_split\n",
        "from sklearn.preprocessing import StandardScaler\n",
        "from sklearn.linear_model import LogisticRegression\n",
        "\n",
        "df = pd.read_csv(\"breastCancer.csv\")\n",
        "x = df.iloc[:, 0:9]\n",
        "y = df.iloc[:, 9]\n",
        "x_train, x_test, y_train, y_test = train_test_split(\n",
        "    x, y, test_size=0.2)\n",
        "transfer = StandardScaler()\n",
        "x_train = transfer.fit_transform(x_train)\n",
        "x_test = transfer.transform(x_test)\n",
        "estimator = LogisticRegression()\n",
        "estimator.fit(x_train, y_train)\n",
        "score = estimator.score(x_test, y_test)\n",
        "print(\"準確率：{}\".format(score))"
      ],
      "metadata": {
        "id": "_FeAz09ggI-A",
        "colab": {
          "base_uri": "https://localhost:8080/"
        },
        "outputId": "eae5c908-9ae9-4cdc-d8c4-c8629cca6b7c"
      },
      "execution_count": null,
      "outputs": [
        {
          "output_type": "stream",
          "name": "stdout",
          "text": [
            "準確率：0.9779411764705882\n"
          ]
        }
      ]
    },
    {
      "cell_type": "markdown",
      "source": [
        "## 召回率應用：提高罹癌患者檢測率"
      ],
      "metadata": {
        "id": "C0DK6DWggdN3"
      }
    },
    {
      "cell_type": "code",
      "source": [
        "import pandas as pd\n",
        "import numpy as np\n",
        "from sklearn.model_selection import train_test_split\n",
        "from sklearn.preprocessing import StandardScaler\n",
        "from sklearn.linear_model import LogisticRegression\n",
        "from sklearn.metrics import classification_report\n",
        "\n",
        "df = pd.read_csv(\"breastCancer.csv\")\n",
        "x = df.iloc[:, 0:9]\n",
        "y = df.iloc[:, 9]\n",
        "x_train, x_test, y_train, y_test = train_test_split(\n",
        "    x, y, test_size=0.2, random_state=1)\n",
        "transfer = StandardScaler()\n",
        "x_train = transfer.fit_transform(x_train)\n",
        "x_test = transfer.transform(x_test)\n",
        "estimator = LogisticRegression()\n",
        "estimator.fit(x_train, y_train)\n",
        "y_pre = estimator.predict(x_test)\n",
        "#pred_proba = estimator.predict_proba(x_test)[:, 1]\n",
        "#thres = 0.15\n",
        "#y_pre = np.where(pred_proba > thres, 2, 1)\n",
        "ret = classification_report(y_test, y_pre, labels=(1, 2), \n",
        "                            target_names=(\"良性\", \"惡性\"))\n",
        "print(ret)"
      ],
      "metadata": {
        "id": "dJOueWcRgex4",
        "colab": {
          "base_uri": "https://localhost:8080/"
        },
        "outputId": "4988670d-f728-45f8-cb01-ca773798ecd5"
      },
      "execution_count": null,
      "outputs": [
        {
          "output_type": "stream",
          "name": "stdout",
          "text": [
            "              precision    recall  f1-score   support\n",
            "\n",
            "          良性       0.98      0.99      0.98        96\n",
            "          惡性       0.97      0.95      0.96        40\n",
            "\n",
            "    accuracy                           0.98       136\n",
            "   macro avg       0.98      0.97      0.97       136\n",
            "weighted avg       0.98      0.98      0.98       136\n",
            "\n"
          ]
        }
      ]
    },
    {
      "cell_type": "markdown",
      "source": [
        "## SVM分類範例：稻米種類判斷"
      ],
      "metadata": {
        "id": "LDZ0dpS_2_6f"
      }
    },
    {
      "cell_type": "code",
      "source": [
        "import pandas as pd\n",
        "from sklearn.svm import SVC\n",
        "from sklearn.model_selection import train_test_split\n",
        "\n",
        "df = pd.read_csv(\"rice.csv\")\n",
        "x = df.iloc[:, 0:7]\n",
        "y = df.iloc[:, 7]\n",
        "x_train, x_test, y_train, y_test = train_test_split(\n",
        "    x, y, test_size=0.2)\n",
        "clf = SVC(kernel='poly', gamma='auto', C=1, degree=1)\n",
        "clf.fit(x_train,y_train)\n",
        "score = clf.score(x_test, y_test)\n",
        "print(\"準確率：{}\".format(score))"
      ],
      "metadata": {
        "id": "seDb8_uO3DKr",
        "colab": {
          "base_uri": "https://localhost:8080/"
        },
        "outputId": "187e3ec7-e976-4660-874f-60b46029f4ae"
      },
      "execution_count": null,
      "outputs": [
        {
          "output_type": "stream",
          "name": "stdout",
          "text": [
            "準確率：0.9381578947368421\n"
          ]
        }
      ]
    },
    {
      "cell_type": "markdown",
      "source": [
        "## SVC應用：人臉辨識"
      ],
      "metadata": {
        "id": "mLOyibk3_q7t"
      }
    },
    {
      "cell_type": "code",
      "source": [
        "from sklearn.model_selection import \\\n",
        "    train_test_split\n",
        "from sklearn.datasets import \\\n",
        "    fetch_lfw_people\n",
        "from sklearn.decomposition import PCA\n",
        "from sklearn.svm import SVC\n",
        "lfw_people = fetch_lfw_people(data_home='.', \n",
        "                    min_faces_per_person=70)\n",
        "print(lfw_people.images.shape)"
      ],
      "metadata": {
        "id": "WBcD7bHB_ssB",
        "colab": {
          "base_uri": "https://localhost:8080/"
        },
        "outputId": "1e641c78-e32b-4827-f3b4-85924551bc2b"
      },
      "execution_count": null,
      "outputs": [
        {
          "output_type": "stream",
          "name": "stdout",
          "text": [
            "(1288, 62, 47)\n"
          ]
        }
      ]
    },
    {
      "cell_type": "code",
      "source": [
        "x = lfw_people.data\n",
        "print('特徵維度:{}'.format(x.shape))\n",
        "y = lfw_people.target \n",
        "names = lfw_people.target_names\n",
        "print('人臉姓名：')\n",
        "print(lfw_people.target_names)"
      ],
      "metadata": {
        "id": "S9iHIq_uC11M",
        "colab": {
          "base_uri": "https://localhost:8080/"
        },
        "outputId": "c8493a3f-f08c-4844-8d5b-9389f080f551"
      },
      "execution_count": null,
      "outputs": [
        {
          "output_type": "stream",
          "name": "stdout",
          "text": [
            "特徵維度:(1288, 2914)\n",
            "人臉姓名：\n",
            "['Ariel Sharon' 'Colin Powell' 'Donald Rumsfeld' 'George W Bush'\n",
            " 'Gerhard Schroeder' 'Hugo Chavez' 'Tony Blair']\n"
          ]
        }
      ]
    },
    {
      "cell_type": "code",
      "source": [
        "%%time\n",
        "x_train, x_test, y_train, y_test = train_test_split(\n",
        "    x, y, test_size=0.2, random_state=1)\n",
        "clf = SVC(kernel='rbf', C=100, gamma='auto')\n",
        "clf = clf.fit(x_train, y_train)\n",
        "predict = clf.predict(x_test)\n",
        "score = clf.score(x_test, y_test)\n",
        "print(\"準確率：{}\".format(score))\n",
        "for i in range(20):\n",
        "  print('預測值：{}，真實值：{}'.format(names[predict[i]], \n",
        "                               names[y_test[i]]))"
      ],
      "metadata": {
        "id": "4I-JFQxXEAGo",
        "colab": {
          "base_uri": "https://localhost:8080/"
        },
        "outputId": "bd6a2b61-954c-476b-a864-d933fd02b04e"
      },
      "execution_count": null,
      "outputs": [
        {
          "output_type": "stream",
          "name": "stdout",
          "text": [
            "準確率：0.4108527131782946\n",
            "預測值：George W Bush，真實值：Ariel Sharon\n",
            "預測值：George W Bush，真實值：Tony Blair\n",
            "預測值：George W Bush，真實值：Ariel Sharon\n",
            "預測值：George W Bush，真實值：Donald Rumsfeld\n",
            "預測值：George W Bush，真實值：Donald Rumsfeld\n",
            "預測值：George W Bush，真實值：George W Bush\n",
            "預測值：George W Bush，真實值：Colin Powell\n",
            "預測值：George W Bush，真實值：Hugo Chavez\n",
            "預測值：George W Bush，真實值：Tony Blair\n",
            "預測值：George W Bush，真實值：Tony Blair\n",
            "預測值：George W Bush，真實值：George W Bush\n",
            "預測值：George W Bush，真實值：Donald Rumsfeld\n",
            "預測值：George W Bush，真實值：Ariel Sharon\n",
            "預測值：George W Bush，真實值：George W Bush\n",
            "預測值：George W Bush，真實值：Gerhard Schroeder\n",
            "預測值：George W Bush，真實值：Ariel Sharon\n",
            "預測值：George W Bush，真實值：Colin Powell\n",
            "預測值：George W Bush，真實值：George W Bush\n",
            "預測值：George W Bush，真實值：Colin Powell\n",
            "預測值：George W Bush，真實值：Gerhard Schroeder\n",
            "CPU times: user 6.81 s, sys: 2.5 ms, total: 6.82 s\n",
            "Wall time: 6.8 s\n"
          ]
        }
      ]
    },
    {
      "cell_type": "code",
      "source": [
        "%%time\n",
        "x_train, x_test, y_train, y_test = train_test_split(\n",
        "    x, y, test_size=0.2, random_state=1)\n",
        "pca =PCA(svd_solver='randomized', n_components=100, whiten=True)\n",
        "pca.fit(x, y)\n",
        "x_train_pca = pca.transform(x_train)\n",
        "x_test_pca = pca.transform(x_test)\n",
        "clf = SVC(kernel='rbf', C=100, gamma='auto')\n",
        "clf = clf.fit(x_train_pca, y_train)\n",
        "predict = clf.predict(x_test_pca)\n",
        "score = clf.score(x_test_pca, y_test)\n",
        "print(\"準確率：{}\".format(score))\n",
        "for i in range(20):\n",
        "  print('預測值：{}，真實值：{}'.format(names[predict[i]], \n",
        "                               names[y_test[i]]))"
      ],
      "metadata": {
        "id": "cXhm9taKFdhu",
        "colab": {
          "base_uri": "https://localhost:8080/"
        },
        "outputId": "50fc02ef-e72e-43f8-e5af-7d27a43da2b4"
      },
      "execution_count": null,
      "outputs": [
        {
          "output_type": "stream",
          "name": "stdout",
          "text": [
            "準確率：0.8255813953488372\n",
            "預測值：Colin Powell，真實值：Ariel Sharon\n",
            "預測值：Tony Blair，真實值：Tony Blair\n",
            "預測值：Ariel Sharon，真實值：Ariel Sharon\n",
            "預測值：Donald Rumsfeld，真實值：Donald Rumsfeld\n",
            "預測值：Donald Rumsfeld，真實值：Donald Rumsfeld\n",
            "預測值：George W Bush，真實值：George W Bush\n",
            "預測值：Colin Powell，真實值：Colin Powell\n",
            "預測值：George W Bush，真實值：Hugo Chavez\n",
            "預測值：Tony Blair，真實值：Tony Blair\n",
            "預測值：Tony Blair，真實值：Tony Blair\n",
            "預測值：George W Bush，真實值：George W Bush\n",
            "預測值：Donald Rumsfeld，真實值：Donald Rumsfeld\n",
            "預測值：Ariel Sharon，真實值：Ariel Sharon\n",
            "預測值：George W Bush，真實值：George W Bush\n",
            "預測值：Tony Blair，真實值：Gerhard Schroeder\n",
            "預測值：Colin Powell，真實值：Ariel Sharon\n",
            "預測值：Colin Powell，真實值：Colin Powell\n",
            "預測值：George W Bush，真實值：George W Bush\n",
            "預測值：Colin Powell，真實值：Colin Powell\n",
            "預測值：George W Bush，真實值：Gerhard Schroeder\n",
            "CPU times: user 1.37 s, sys: 987 ms, total: 2.36 s\n",
            "Wall time: 1.36 s\n"
          ]
        }
      ]
    },
    {
      "cell_type": "markdown",
      "source": [
        "## SVM迴歸範例：廣告效益預測"
      ],
      "metadata": {
        "id": "n2QZCY3z4nGh"
      }
    },
    {
      "cell_type": "code",
      "source": [
        "import pandas as pd\n",
        "from sklearn.model_selection import train_test_split\n",
        "from sklearn.svm import SVR\n",
        "from sklearn.preprocessing import StandardScaler\n",
        "from sklearn.metrics import mean_squared_error\n",
        "\n",
        "df = pd.read_csv(\"advSale.csv\")\n",
        "dict1 = {'大於百萬':1, '十萬到百萬':2, '一萬到十萬':3, '小於一萬':4}\n",
        "df['網紅廣告'].replace(dict1, inplace=True)\n",
        "df"
      ],
      "metadata": {
        "id": "0op4ZV264opH",
        "colab": {
          "base_uri": "https://localhost:8080/",
          "height": 424
        },
        "outputId": "63cf983d-23c7-4c2d-be48-eee971ddfa22"
      },
      "execution_count": null,
      "outputs": [
        {
          "output_type": "execute_result",
          "data": {
            "text/html": [
              "\n",
              "  <div id=\"df-35251043-a43b-46b5-a96f-242d2832a408\">\n",
              "    <div class=\"colab-df-container\">\n",
              "      <div>\n",
              "<style scoped>\n",
              "    .dataframe tbody tr th:only-of-type {\n",
              "        vertical-align: middle;\n",
              "    }\n",
              "\n",
              "    .dataframe tbody tr th {\n",
              "        vertical-align: top;\n",
              "    }\n",
              "\n",
              "    .dataframe thead th {\n",
              "        text-align: right;\n",
              "    }\n",
              "</style>\n",
              "<table border=\"1\" class=\"dataframe\">\n",
              "  <thead>\n",
              "    <tr style=\"text-align: right;\">\n",
              "      <th></th>\n",
              "      <th>電視廣告</th>\n",
              "      <th>廣播廣告</th>\n",
              "      <th>社群媒體廣告</th>\n",
              "      <th>網紅廣告</th>\n",
              "      <th>銷售額</th>\n",
              "    </tr>\n",
              "  </thead>\n",
              "  <tbody>\n",
              "    <tr>\n",
              "      <th>0</th>\n",
              "      <td>93.0</td>\n",
              "      <td>25.647047</td>\n",
              "      <td>5.124376</td>\n",
              "      <td>3</td>\n",
              "      <td>334.542585</td>\n",
              "    </tr>\n",
              "    <tr>\n",
              "      <th>1</th>\n",
              "      <td>79.0</td>\n",
              "      <td>28.862860</td>\n",
              "      <td>1.487848</td>\n",
              "      <td>4</td>\n",
              "      <td>283.111546</td>\n",
              "    </tr>\n",
              "    <tr>\n",
              "      <th>2</th>\n",
              "      <td>30.0</td>\n",
              "      <td>4.328536</td>\n",
              "      <td>0.477257</td>\n",
              "      <td>3</td>\n",
              "      <td>102.350794</td>\n",
              "    </tr>\n",
              "    <tr>\n",
              "      <th>3</th>\n",
              "      <td>36.0</td>\n",
              "      <td>15.826442</td>\n",
              "      <td>1.740744</td>\n",
              "      <td>4</td>\n",
              "      <td>127.546660</td>\n",
              "    </tr>\n",
              "    <tr>\n",
              "      <th>4</th>\n",
              "      <td>33.0</td>\n",
              "      <td>16.567955</td>\n",
              "      <td>3.220240</td>\n",
              "      <td>4</td>\n",
              "      <td>117.856095</td>\n",
              "    </tr>\n",
              "    <tr>\n",
              "      <th>...</th>\n",
              "      <td>...</td>\n",
              "      <td>...</td>\n",
              "      <td>...</td>\n",
              "      <td>...</td>\n",
              "      <td>...</td>\n",
              "    </tr>\n",
              "    <tr>\n",
              "      <th>4495</th>\n",
              "      <td>75.0</td>\n",
              "      <td>20.142183</td>\n",
              "      <td>5.763508</td>\n",
              "      <td>1</td>\n",
              "      <td>265.232733</td>\n",
              "    </tr>\n",
              "    <tr>\n",
              "      <th>4496</th>\n",
              "      <td>19.0</td>\n",
              "      <td>4.906581</td>\n",
              "      <td>3.263641</td>\n",
              "      <td>4</td>\n",
              "      <td>66.570507</td>\n",
              "    </tr>\n",
              "    <tr>\n",
              "      <th>4497</th>\n",
              "      <td>43.0</td>\n",
              "      <td>16.566161</td>\n",
              "      <td>3.758375</td>\n",
              "      <td>2</td>\n",
              "      <td>159.537246</td>\n",
              "    </tr>\n",
              "    <tr>\n",
              "      <th>4498</th>\n",
              "      <td>96.0</td>\n",
              "      <td>33.863142</td>\n",
              "      <td>4.851668</td>\n",
              "      <td>3</td>\n",
              "      <td>346.718590</td>\n",
              "    </tr>\n",
              "    <tr>\n",
              "      <th>4499</th>\n",
              "      <td>68.0</td>\n",
              "      <td>21.076964</td>\n",
              "      <td>1.240824</td>\n",
              "      <td>1</td>\n",
              "      <td>247.316684</td>\n",
              "    </tr>\n",
              "  </tbody>\n",
              "</table>\n",
              "<p>4500 rows × 5 columns</p>\n",
              "</div>\n",
              "      <button class=\"colab-df-convert\" onclick=\"convertToInteractive('df-35251043-a43b-46b5-a96f-242d2832a408')\"\n",
              "              title=\"Convert this dataframe to an interactive table.\"\n",
              "              style=\"display:none;\">\n",
              "        \n",
              "  <svg xmlns=\"http://www.w3.org/2000/svg\" height=\"24px\"viewBox=\"0 0 24 24\"\n",
              "       width=\"24px\">\n",
              "    <path d=\"M0 0h24v24H0V0z\" fill=\"none\"/>\n",
              "    <path d=\"M18.56 5.44l.94 2.06.94-2.06 2.06-.94-2.06-.94-.94-2.06-.94 2.06-2.06.94zm-11 1L8.5 8.5l.94-2.06 2.06-.94-2.06-.94L8.5 2.5l-.94 2.06-2.06.94zm10 10l.94 2.06.94-2.06 2.06-.94-2.06-.94-.94-2.06-.94 2.06-2.06.94z\"/><path d=\"M17.41 7.96l-1.37-1.37c-.4-.4-.92-.59-1.43-.59-.52 0-1.04.2-1.43.59L10.3 9.45l-7.72 7.72c-.78.78-.78 2.05 0 2.83L4 21.41c.39.39.9.59 1.41.59.51 0 1.02-.2 1.41-.59l7.78-7.78 2.81-2.81c.8-.78.8-2.07 0-2.86zM5.41 20L4 18.59l7.72-7.72 1.47 1.35L5.41 20z\"/>\n",
              "  </svg>\n",
              "      </button>\n",
              "      \n",
              "  <style>\n",
              "    .colab-df-container {\n",
              "      display:flex;\n",
              "      flex-wrap:wrap;\n",
              "      gap: 12px;\n",
              "    }\n",
              "\n",
              "    .colab-df-convert {\n",
              "      background-color: #E8F0FE;\n",
              "      border: none;\n",
              "      border-radius: 50%;\n",
              "      cursor: pointer;\n",
              "      display: none;\n",
              "      fill: #1967D2;\n",
              "      height: 32px;\n",
              "      padding: 0 0 0 0;\n",
              "      width: 32px;\n",
              "    }\n",
              "\n",
              "    .colab-df-convert:hover {\n",
              "      background-color: #E2EBFA;\n",
              "      box-shadow: 0px 1px 2px rgba(60, 64, 67, 0.3), 0px 1px 3px 1px rgba(60, 64, 67, 0.15);\n",
              "      fill: #174EA6;\n",
              "    }\n",
              "\n",
              "    [theme=dark] .colab-df-convert {\n",
              "      background-color: #3B4455;\n",
              "      fill: #D2E3FC;\n",
              "    }\n",
              "\n",
              "    [theme=dark] .colab-df-convert:hover {\n",
              "      background-color: #434B5C;\n",
              "      box-shadow: 0px 1px 3px 1px rgba(0, 0, 0, 0.15);\n",
              "      filter: drop-shadow(0px 1px 2px rgba(0, 0, 0, 0.3));\n",
              "      fill: #FFFFFF;\n",
              "    }\n",
              "  </style>\n",
              "\n",
              "      <script>\n",
              "        const buttonEl =\n",
              "          document.querySelector('#df-35251043-a43b-46b5-a96f-242d2832a408 button.colab-df-convert');\n",
              "        buttonEl.style.display =\n",
              "          google.colab.kernel.accessAllowed ? 'block' : 'none';\n",
              "\n",
              "        async function convertToInteractive(key) {\n",
              "          const element = document.querySelector('#df-35251043-a43b-46b5-a96f-242d2832a408');\n",
              "          const dataTable =\n",
              "            await google.colab.kernel.invokeFunction('convertToInteractive',\n",
              "                                                     [key], {});\n",
              "          if (!dataTable) return;\n",
              "\n",
              "          const docLinkHtml = 'Like what you see? Visit the ' +\n",
              "            '<a target=\"_blank\" href=https://colab.research.google.com/notebooks/data_table.ipynb>data table notebook</a>'\n",
              "            + ' to learn more about interactive tables.';\n",
              "          element.innerHTML = '';\n",
              "          dataTable['output_type'] = 'display_data';\n",
              "          await google.colab.output.renderOutput(dataTable, element);\n",
              "          const docLink = document.createElement('div');\n",
              "          docLink.innerHTML = docLinkHtml;\n",
              "          element.appendChild(docLink);\n",
              "        }\n",
              "      </script>\n",
              "    </div>\n",
              "  </div>\n",
              "  "
            ],
            "text/plain": [
              "      電視廣告       廣播廣告    社群媒體廣告  網紅廣告         銷售額\n",
              "0     93.0  25.647047  5.124376     3  334.542585\n",
              "1     79.0  28.862860  1.487848     4  283.111546\n",
              "2     30.0   4.328536  0.477257     3  102.350794\n",
              "3     36.0  15.826442  1.740744     4  127.546660\n",
              "4     33.0  16.567955  3.220240     4  117.856095\n",
              "...    ...        ...       ...   ...         ...\n",
              "4495  75.0  20.142183  5.763508     1  265.232733\n",
              "4496  19.0   4.906581  3.263641     4   66.570507\n",
              "4497  43.0  16.566161  3.758375     2  159.537246\n",
              "4498  96.0  33.863142  4.851668     3  346.718590\n",
              "4499  68.0  21.076964  1.240824     1  247.316684\n",
              "\n",
              "[4500 rows x 5 columns]"
            ]
          },
          "metadata": {},
          "execution_count": 15
        }
      ]
    },
    {
      "cell_type": "code",
      "source": [
        "x = df.iloc[:, 0:4]\n",
        "y = df.iloc[:, 4]\n",
        "x_train, x_test, y_train, y_test = train_test_split(\n",
        "    x, y, test_size=0.2)\n",
        "std_x = StandardScaler()\n",
        "x_train = std_x.fit_transform(x_train)\n",
        "x_test = std_x.transform(x_test)\n",
        "std_y = StandardScaler()\n",
        "y_train = std_y.fit_transform(y_train.to_numpy().reshape(-1, 1))\n",
        "y_test = std_y.transform(y_test.to_numpy().reshape(-1, 1))\n",
        "clf = SVR(kernel='rbf', C=1, gamma='auto')\n",
        "clf.fit(x_train, y_train)\n",
        "y_predict = clf.predict(x_test)\n",
        "y_predict = std_y.inverse_transform(y_predict.reshape(-1, 1))\n",
        "y_real = std_y.inverse_transform(y_test)\n",
        "for i in range(10):\n",
        "  print('預測值：{}，真實值：{}'.format(y_predict[i], y_real[i][0]))\n",
        "merror = mean_squared_error(y_real, y_predict)\n",
        "print('平均方差：{}'.format(merror))"
      ],
      "metadata": {
        "id": "k8BYecLw5i1p",
        "colab": {
          "base_uri": "https://localhost:8080/"
        },
        "outputId": "d22c5846-648b-4667-8b3a-dff233f1bb16"
      },
      "execution_count": null,
      "outputs": [
        {
          "output_type": "stream",
          "name": "stdout",
          "text": [
            "預測值：[185.17351454]，真實值：192.110626\n",
            "預測值：[280.42962985]，真實值：279.998199\n",
            "預測值：[336.94121359]，真實值：354.292515\n",
            "預測值：[307.06949054]，真實值：311.670241\n",
            "預測值：[352.24045744]，真實值：360.109683\n",
            "預測值：[208.55594167]，真實值：214.269115\n",
            "預測值：[54.73763829]，真實值：47.042182999999994\n",
            "預測值：[275.59752106]，真實值：279.061514\n",
            "預測值：[127.31255046]，真實值：130.10523\n",
            "預測值：[76.50701872]，真實值：70.07728099999999\n",
            "平均方差：18.041233854635003\n"
          ]
        },
        {
          "output_type": "stream",
          "name": "stderr",
          "text": [
            "/usr/local/lib/python3.7/dist-packages/sklearn/utils/validation.py:993: DataConversionWarning: A column-vector y was passed when a 1d array was expected. Please change the shape of y to (n_samples, ), for example using ravel().\n",
            "  y = column_or_1d(y, warn=True)\n"
          ]
        }
      ]
    }
  ]
}