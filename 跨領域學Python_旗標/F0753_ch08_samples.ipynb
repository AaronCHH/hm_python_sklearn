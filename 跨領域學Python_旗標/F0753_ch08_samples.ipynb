{
 "cells": [
  {
   "cell_type": "markdown",
   "metadata": {},
   "source": [
    "# F0753 範例程式 - 第 8 章 資料相關度與簡單線性迴歸分析 Data correlation coefficient and simple linear regression"
   ]
  },
  {
   "cell_type": "markdown",
   "metadata": {},
   "source": [
    "## 8-0 相關係數 (correlation coefficient)：資料的相關程度"
   ]
  },
  {
   "cell_type": "markdown",
   "metadata": {},
   "source": [
    "### *計算相關係數與繪製散布圖 scatter plot*\n",
    "\n",
    "* 查詢台灣銀行美元對台灣歷史匯率：https://rate.bot.com.tw/xrt/history/USD\n",
    "\n",
    "* 查詢台灣銀行每盎司黃金歷史價格：https://rate.bot.com.tw/gold/passbook"
   ]
  },
  {
   "cell_type": "code",
   "execution_count": null,
   "metadata": {},
   "outputs": [],
   "source": [
    "import numpy as np\n",
    "import matplotlib.pyplot as plt\n",
    "\n",
    "usd = np.array([29.86, 29.78, 29.695, 29.715, 29.685,\n",
    "                29.665, 29.67, 29.635, 29.625, 29.665,\n",
    "                29.665, 29.635, 29.66, 29.655, 29.67,\n",
    "                29.64, 29.61, 29.585, 29.51, 29.34])\n",
    "\n",
    "gold = np.array([1583.1, 1615, 1651.35, 1642.8, 1643.8,\n",
    "                 1674.75, 1680.25, 1701.65, 1704.65, 1711.1,\n",
    "                 1685.2, 1667.3, 1684, 1678.75, 1702.65,\n",
    "                 1718.1, 1707.1, 1692.2, 1698.65, 1708.1])\n",
    "\n",
    "plt.scatter(usd, gold)\n",
    "plt.show()"
   ]
  },
  {
   "cell_type": "code",
   "execution_count": null,
   "metadata": {},
   "outputs": [],
   "source": [
    "print(np.corrcoef(usd, gold))"
   ]
  },
  {
   "cell_type": "markdown",
   "metadata": {},
   "source": [
    "## 8-1 簡單線性迴歸 (linear regression)：預測資料的模型"
   ]
  },
  {
   "cell_type": "markdown",
   "metadata": {},
   "source": [
    "### *求出迴歸模型*"
   ]
  },
  {
   "cell_type": "code",
   "execution_count": null,
   "metadata": {},
   "outputs": [],
   "source": [
    "import numpy as np\n",
    "import matplotlib.pyplot as plt\n",
    "\n",
    "usd = np.array([29.86, 29.78, 29.695, 29.715, 29.685,\n",
    "                29.665, 29.67, 29.635, 29.625, 29.665,\n",
    "                29.665, 29.635, 29.66, 29.655, 29.67,\n",
    "                29.64, 29.61, 29.585, 29.51, 29.34])\n",
    "\n",
    "gold = np.array([1583.1, 1615, 1651.35, 1642.8, 1643.8,\n",
    "                 1674.75, 1680.25, 1701.65, 1704.65, 1711.1,\n",
    "                 1685.2, 1667.3, 1684, 1678.75, 1702.65,\n",
    "                 1718.1, 1707.1, 1692.2, 1698.65, 1708.1])\n",
    "\n",
    "print(np.polyfit(usd, gold, 1).round(1))"
   ]
  },
  {
   "cell_type": "markdown",
   "metadata": {},
   "source": [
    "### *在程式中用迴歸模型做預測*"
   ]
  },
  {
   "cell_type": "code",
   "execution_count": null,
   "metadata": {},
   "outputs": [],
   "source": [
    "# 沿用上一小節的套件及 usd/gold\n",
    "\n",
    "coef = np.polyfit(usd, gold, 1)\n",
    "reg_model = np.poly1d(coef)\n",
    "\n",
    "print(reg_model)"
   ]
  },
  {
   "cell_type": "code",
   "execution_count": null,
   "metadata": {},
   "outputs": [],
   "source": [
    "print(reg_model(29.75).round(3))"
   ]
  },
  {
   "cell_type": "markdown",
   "metadata": {},
   "source": [
    "## 8-2 簡單線性迴歸的視覺化 (visualization) 及圖表調整"
   ]
  },
  {
   "cell_type": "markdown",
   "metadata": {},
   "source": [
    "### *繪製簡單迴歸模型*"
   ]
  },
  {
   "cell_type": "code",
   "execution_count": null,
   "metadata": {},
   "outputs": [],
   "source": [
    "# 沿用上一小節的套件, usd, gold 及 reg_model\n",
    "\n",
    "plt.scatter(usd, gold)\n",
    "plt.plot(usd, reg_model(usd), color='red')\n",
    "plt.show()"
   ]
  },
  {
   "cell_type": "code",
   "execution_count": null,
   "metadata": {},
   "outputs": [],
   "source": [
    "print(reg_model(usd).round(3))"
   ]
  },
  {
   "cell_type": "markdown",
   "metadata": {},
   "source": [
    "### *放大圖形、加入圖表標題及軸文字、加入圖例和格線、調整圖表中文字大小*"
   ]
  },
  {
   "cell_type": "code",
   "execution_count": null,
   "metadata": {},
   "outputs": [],
   "source": [
    "# 沿用上一小節的套件, usd, gold 及 reg_model\n",
    "\n",
    "plt.figure(figsize=(12, 8))\n",
    "plt.rcParams['font.size'] = 12\n",
    "\n",
    "plt.scatter(usd, gold)\n",
    "plt.plot(usd, reg_model(usd), color='red', label='Prediction model')\n",
    "\n",
    "plt.title('Regression chart')\n",
    "plt.xlabel('USD exchange rate (to TWD)')\n",
    "plt.ylabel('Gold price (in USD)')\n",
    "plt.legend()\n",
    "plt.grid(True)\n",
    "plt.show()"
   ]
  },
  {
   "cell_type": "markdown",
   "metadata": {},
   "source": [
    "### *在圖表中顯示中文*\n",
    "\n",
    "* Windows 系統可能的中文字型：Microsoft JhengHei (微軟正黑體), Microsoft YaHei (微軟雅黑體)\n",
    "* macOS 系統可能的中文字型：Aqua Kana\n",
    "* Debian/Ubuntu (Linux) 系統可能的中文字型：Noto Sans CJK JP (思源黑體), Noto Serif CJK JP (思源宋體)"
   ]
  },
  {
   "cell_type": "code",
   "execution_count": null,
   "metadata": {},
   "outputs": [],
   "source": [
    "# 沿用上一小節的套件, usd, gold 及 reg_model\n",
    "\n",
    "plt.figure(figsize=(12, 8))\n",
    "plt.rcParams['font.family'] = 'Microsoft JhengHei'\n",
    "\n",
    "plt.scatter(usd, gold)\n",
    "plt.plot(usd, reg_model(usd), color='red', label='預測模型')\n",
    "\n",
    "plt.title('迴歸分析圖表')\n",
    "plt.xlabel('美元對台幣匯率 (台幣)')\n",
    "plt.ylabel('每盎司金價 (美元)')\n",
    "plt.legend()\n",
    "plt.grid(True)\n",
    "plt.show()"
   ]
  },
  {
   "cell_type": "markdown",
   "metadata": {},
   "source": [
    "### *(bonus) 列出系統中的字型*\n",
    "\n",
    "如果你不確定系統中有哪些字型支援中文, 可執行以下程式, 這會用所有字型印出一行測試文字。\n",
    "\n",
    "不支援中文的字型, 其中文會以系統預設字型呈現, 因此只要挑中文字型有變化的來試驗即可 (複製前面中括號內的字型名稱貼到程式碼內)。\n",
    "\n",
    "有些字型也支援如日文等其他語言。注意：部分支援中文的字型會無法正確顯示負數數值。"
   ]
  },
  {
   "cell_type": "code",
   "execution_count": null,
   "metadata": {},
   "outputs": [],
   "source": [
    "import matplotlib.font_manager\n",
    "from IPython.core.display import HTML\n",
    "\n",
    "html = []\n",
    "for font in matplotlib.font_manager.fontManager.ttflist:\n",
    "    html.append(f\"<p>[{font.name}] --- <span style='font-family:{font.name}; font-size: 24px;'>matplotlib 字型測試</p>\")\n",
    "\n",
    "HTML(''.join(html))"
   ]
  },
  {
   "cell_type": "markdown",
   "metadata": {},
   "source": [
    "## 8-3 非線性迴歸模型 (補充)"
   ]
  },
  {
   "cell_type": "code",
   "execution_count": null,
   "metadata": {},
   "outputs": [],
   "source": [
    "import numpy as np\n",
    "import matplotlib.pyplot as plt\n",
    "\n",
    "usd = np.array([29.86, 29.78, 29.695, 29.715, 29.685,\n",
    "                29.665, 29.67, 29.635, 29.625, 29.665,\n",
    "                29.665, 29.635, 29.66, 29.655, 29.67,\n",
    "                29.64, 29.61, 29.585, 29.51, 29.34])\n",
    "\n",
    "gold = np.array([1583.1, 1615, 1651.35, 1642.8, 1643.8,\n",
    "                 1674.75, 1680.25, 1701.65, 1704.65, 1711.1,\n",
    "                 1685.2, 1667.3, 1684, 1678.75, 1702.65,\n",
    "                 1718.1, 1707.1, 1692.2, 1698.65, 1708.1])\n",
    "\n",
    "coef = np.polyfit(usd, gold, 2)\n",
    "reg2_model = np.poly1d(coef)\n",
    "print(reg2_model)\n",
    "\n",
    "plt.scatter(usd, gold)\n",
    "plt.plot(usd, reg2_model(usd), color='red')\n",
    "plt.show()"
   ]
  },
  {
   "cell_type": "code",
   "execution_count": null,
   "metadata": {},
   "outputs": [],
   "source": [
    "coef = np.polyfit(usd, gold, 5)\n",
    "reg5_model = np.poly1d(coef)\n",
    "print(reg5_model)\n",
    "\n",
    "plt.scatter(usd, gold)\n",
    "plt.plot(usd, reg5_model(usd), color='red')\n",
    "plt.show()"
   ]
  }
 ],
 "metadata": {
  "kernelspec": {
   "display_name": "Python 3",
   "language": "python",
   "name": "python3"
  },
  "language_info": {
   "codemirror_mode": {
    "name": "ipython",
    "version": 3
   },
   "file_extension": ".py",
   "mimetype": "text/x-python",
   "name": "python",
   "nbconvert_exporter": "python",
   "pygments_lexer": "ipython3",
   "version": "3.8.8"
  }
 },
 "nbformat": 4,
 "nbformat_minor": 4
}
