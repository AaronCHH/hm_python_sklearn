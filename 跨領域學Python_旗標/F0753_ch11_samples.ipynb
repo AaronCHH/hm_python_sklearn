{
 "cells": [
  {
   "cell_type": "markdown",
   "metadata": {},
   "source": [
    "# F0753 範例程式 - 第 11 章 多元線性迴歸分析：scikit-learn"
   ]
  },
  {
   "cell_type": "markdown",
   "metadata": {},
   "source": [
    "## 11-0 使用 scikit-learn 並匯入測試資料集"
   ]
  },
  {
   "cell_type": "markdown",
   "metadata": {},
   "source": [
    "### *取出自變數與應變數資料*"
   ]
  },
  {
   "cell_type": "code",
   "execution_count": null,
   "metadata": {},
   "outputs": [],
   "source": [
    "from sklearn import datasets\n",
    "\n",
    "data = datasets.load_boston().data\n",
    "target = datasets.load_boston().target\n",
    "\n",
    "print(data)\n",
    "print(target)"
   ]
  },
  {
   "cell_type": "markdown",
   "metadata": {},
   "source": [
    "注意：Scikit-learn 自 1.2 版起將不再內建波士頓房價資料集，若你安裝了新版 Anaconda，執行以上程式可能會看到警告或產生錯誤。若遇到此種情況，請改執行下面的替代程式碼："
   ]
  },
  {
   "cell_type": "code",
   "execution_count": null,
   "metadata": {},
   "outputs": [],
   "source": [
    "import pandas as pd\n",
    "\n",
    "datasets = pd.read_csv('https://github.com/selva86/datasets/raw/master/BostonHousing.csv')\n",
    "data = datasets.drop(['medv'], axis=1).to_numpy()\n",
    "target = datasets['medv'].to_numpy()\n",
    "\n",
    "print(data)\n",
    "print(target)"
   ]
  },
  {
   "cell_type": "markdown",
   "metadata": {},
   "source": [
    "### *資料分割：訓練資料集與測試資料集*"
   ]
  },
  {
   "cell_type": "code",
   "execution_count": null,
   "metadata": {},
   "outputs": [],
   "source": [
    "# 沿用上一小節的模組及 data/target\n",
    "\n",
    "from sklearn.model_selection import train_test_split\n",
    "\n",
    "data_train, data_test, target_train, target_test = train_test_split(data, target, test_size=0.2)"
   ]
  },
  {
   "cell_type": "code",
   "execution_count": null,
   "metadata": {},
   "outputs": [],
   "source": [
    "print(data_train.shape)\n",
    "print(data_test.shape)\n",
    "print(target_train.shape)\n",
    "print(target_test.shape)"
   ]
  },
  {
   "cell_type": "markdown",
   "metadata": {},
   "source": [
    "## 11-1 訓練並評估多元線性迴歸模型"
   ]
  },
  {
   "cell_type": "markdown",
   "metadata": {},
   "source": [
    "### *使用訓練集產生模型*"
   ]
  },
  {
   "cell_type": "code",
   "execution_count": null,
   "metadata": {},
   "outputs": [],
   "source": [
    "# 沿用上一小節的模組及 data_train, data_test, target_train\n",
    "\n",
    "from sklearn.linear_model import LinearRegression\n",
    "\n",
    "regr_model = LinearRegression()\n",
    "regr_model.fit(data_train, target_train)"
   ]
  },
  {
   "cell_type": "code",
   "execution_count": null,
   "metadata": {},
   "outputs": [],
   "source": [
    "predictions = regr_model.predict(data_test)\n",
    "\n",
    "print(predictions.round(1))\n",
    "print(target_test)"
   ]
  },
  {
   "cell_type": "markdown",
   "metadata": {},
   "source": [
    "## 11-2 評估模型的表現 (performance)"
   ]
  },
  {
   "cell_type": "markdown",
   "metadata": {},
   "source": [
    "### *評估模型表現 1：決定係數*"
   ]
  },
  {
   "cell_type": "code",
   "execution_count": null,
   "metadata": {},
   "outputs": [],
   "source": [
    "# 沿用上一小節的模組及 regr_model, data_train, data_test, target_train, target_test\n",
    "\n",
    "print(regr_model.score(data_train, target_train).round(3))\n",
    "print(regr_model.score(data_test, target_test).round(3))"
   ]
  },
  {
   "cell_type": "markdown",
   "metadata": {},
   "source": [
    "### *評估模型表現 2：殘差圖*"
   ]
  },
  {
   "cell_type": "code",
   "execution_count": null,
   "metadata": {},
   "outputs": [],
   "source": [
    "# 沿用上一節的 predictions/target_test\n",
    "\n",
    "import numpy as np\n",
    "import matplotlib.pyplot as plt\n",
    "\n",
    "x = np.arange(predictions.size)\n",
    "y = x * 0\n",
    "\n",
    "plt.scatter(x, predictions - target_test)\n",
    "plt.plot(x, y, color='orange')\n",
    "plt.show()"
   ]
  },
  {
   "cell_type": "markdown",
   "metadata": {},
   "source": [
    "### *評估模型表現 3：平均絕對誤差*"
   ]
  },
  {
   "cell_type": "code",
   "execution_count": null,
   "metadata": {},
   "outputs": [],
   "source": [
    "# 沿用上一節的 predictions/target_test\n",
    "\n",
    "from sklearn.metrics import mean_absolute_error\n",
    "\n",
    "print(mean_absolute_error(target_test, predictions).round(3))"
   ]
  },
  {
   "cell_type": "markdown",
   "metadata": {},
   "source": [
    "### *取得模型的係數*"
   ]
  },
  {
   "cell_type": "code",
   "execution_count": null,
   "metadata": {},
   "outputs": [],
   "source": [
    "# 沿用上一節的 regr_model\n",
    "\n",
    "print(regr_model.coef_.round(2))\n",
    "print(regr_model.intercept_.round(2))"
   ]
  },
  {
   "cell_type": "markdown",
   "metadata": {},
   "source": [
    "## 11-3 用真實世界的資料做迴歸分析：共享單車與天氣\n",
    "\n",
    "CSV 下載位址：https://archive.ics.uci.edu/ml/machine-learning-databases/00560/SeoulBikeData.csv"
   ]
  },
  {
   "cell_type": "markdown",
   "metadata": {},
   "source": [
    "### *匯入資料集到 pandas 的 DataFrame*"
   ]
  },
  {
   "cell_type": "code",
   "execution_count": null,
   "metadata": {},
   "outputs": [],
   "source": [
    "import pandas as pd\n",
    "\n",
    "df = pd.read_csv(r'C:\\Users\\使用者名稱\\Downloads\\SeoulBikeData.csv', encoding='gbk', index_col=['Date'])\n",
    "df"
   ]
  },
  {
   "cell_type": "markdown",
   "metadata": {},
   "source": [
    "你也可以直接如下載入資料集："
   ]
  },
  {
   "cell_type": "code",
   "execution_count": null,
   "metadata": {},
   "outputs": [],
   "source": [
    "import pandas as pd\n",
    "\n",
    "df = pd.read_csv('https://archive.ics.uci.edu/ml/machine-learning-databases/00560/SeoulBikeData.csv', encoding='gbk', index_col=['Date'])\n",
    "df"
   ]
  },
  {
   "cell_type": "markdown",
   "metadata": {},
   "source": [
    "### *資料清理 (Data cleaning)*"
   ]
  },
  {
   "cell_type": "code",
   "execution_count": null,
   "metadata": {},
   "outputs": [],
   "source": [
    "# 沿用上一小節的模組及 df\n",
    "\n",
    "data = df.copy()\n",
    "data = data[data['Functioning Day'] == 'Yes']\n",
    "data.pop('Functioning Day')"
   ]
  },
  {
   "cell_type": "code",
   "execution_count": null,
   "metadata": {},
   "outputs": [],
   "source": [
    "data = data.rename(columns={'Temperature(癈)': 'Temperature(*C)', 'Dew point temperature(癈)': 'Dew point(*C)'})"
   ]
  },
  {
   "cell_type": "markdown",
   "metadata": {},
   "source": [
    "### *將文字的資料『編碼』為數字*"
   ]
  },
  {
   "cell_type": "code",
   "execution_count": null,
   "metadata": {},
   "outputs": [],
   "source": [
    "# 沿用上一小節的模組及 data\n",
    "\n",
    "from sklearn.preprocessing import LabelEncoder\n",
    "le = LabelEncoder()\n",
    "\n",
    "data['Seasons'] = le.fit_transform(data['Seasons'])\n",
    "data['Holiday'] = le.fit_transform(data['Holiday'])\n",
    "\n",
    "data[['Seasons', 'Holiday']]"
   ]
  },
  {
   "cell_type": "markdown",
   "metadata": {},
   "source": [
    "### *抽出目標值*"
   ]
  },
  {
   "cell_type": "code",
   "execution_count": null,
   "metadata": {},
   "outputs": [],
   "source": [
    "# 沿用上一小節的模組及 data\n",
    "\n",
    "target = data.pop('Rented Bike Count')"
   ]
  },
  {
   "cell_type": "markdown",
   "metadata": {},
   "source": [
    "### *開始訓練迴歸模型*"
   ]
  },
  {
   "cell_type": "code",
   "execution_count": null,
   "metadata": {},
   "outputs": [],
   "source": [
    "# 沿用上一小節的模組及 data\n",
    "\n",
    "data_train, data_test, target_train, target_test = train_test_split(data.values, target.values, test_size=0.2)\n",
    "\n",
    "regr = LinearRegression()\n",
    "regr.fit(data_train, target_train)\n",
    "predictions = regr.predict(data_test)"
   ]
  },
  {
   "cell_type": "markdown",
   "metadata": {},
   "source": [
    "### *評估預測成果*"
   ]
  },
  {
   "cell_type": "code",
   "execution_count": null,
   "metadata": {},
   "outputs": [],
   "source": [
    "# 沿用上一小節的模組及 regr, data_train, data_test, target_train, target_test\n",
    "\n",
    "print(regr.score(data_train, target_train).round(3))\n",
    "print(regr.score(data_test, target_test).round(3))"
   ]
  }
 ],
 "metadata": {
  "kernelspec": {
   "display_name": "Python 3",
   "language": "python",
   "name": "python3"
  },
  "language_info": {
   "codemirror_mode": {
    "name": "ipython",
    "version": 3
   },
   "file_extension": ".py",
   "mimetype": "text/x-python",
   "name": "python",
   "nbconvert_exporter": "python",
   "pygments_lexer": "ipython3",
   "version": "3.8.8"
  }
 },
 "nbformat": 4,
 "nbformat_minor": 4
}
