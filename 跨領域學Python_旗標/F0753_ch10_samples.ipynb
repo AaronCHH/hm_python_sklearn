{
 "cells": [
  {
   "cell_type": "markdown",
   "metadata": {},
   "source": [
    "# F0753 範例程式 - 第 10 章 爬取網路資料：使用 requests"
   ]
  },
  {
   "cell_type": "markdown",
   "metadata": {},
   "source": [
    "## 10-0 用 requests 存取網路資源"
   ]
  },
  {
   "cell_type": "markdown",
   "metadata": {},
   "source": [
    "### *request 是在做什麼？*"
   ]
  },
  {
   "cell_type": "code",
   "execution_count": null,
   "metadata": {},
   "outputs": [],
   "source": [
    "import requests\n",
    "\n",
    "response = requests.get('http://stats.moe.gov.tw/files/detail/108/108_student.csv')\n",
    "\n",
    "print(response.text)"
   ]
  },
  {
   "cell_type": "code",
   "execution_count": null,
   "metadata": {},
   "outputs": [],
   "source": [
    "response = requests.get('http://gis.taiwan.net.tw/XMLReleaseALL_public/activity_C_f.json')\n",
    "\n",
    "print(response.text)"
   ]
  },
  {
   "cell_type": "markdown",
   "metadata": {},
   "source": [
    "## 10-1 以 requests 取得網路服務"
   ]
  },
  {
   "cell_type": "markdown",
   "metadata": {},
   "source": [
    "### *簡單的網路服務範例*"
   ]
  },
  {
   "cell_type": "code",
   "execution_count": null,
   "metadata": {},
   "outputs": [],
   "source": [
    "import requests\n",
    "url = 'https://random.dog/woof.json'\n",
    "\n",
    "response = requests.get(url)\n",
    "print(response.text)"
   ]
  },
  {
   "cell_type": "markdown",
   "metadata": {},
   "source": [
    "### *解讀 JSON 格式資料*"
   ]
  },
  {
   "cell_type": "code",
   "execution_count": null,
   "metadata": {},
   "outputs": [],
   "source": [
    "response.json()"
   ]
  },
  {
   "cell_type": "code",
   "execution_count": null,
   "metadata": {},
   "outputs": [],
   "source": [
    "type(response.json())"
   ]
  },
  {
   "cell_type": "code",
   "execution_count": null,
   "metadata": {},
   "outputs": [],
   "source": [
    "data = response.json()\n",
    "\n",
    "print(data['url'])"
   ]
  },
  {
   "cell_type": "code",
   "execution_count": null,
   "metadata": {},
   "outputs": [],
   "source": [
    "import webbrowser\n",
    "\n",
    "webbrowser.open(data['url'])"
   ]
  },
  {
   "cell_type": "markdown",
   "metadata": {},
   "source": [
    "## 10-2 解析網路服務的資料內容"
   ]
  },
  {
   "cell_type": "markdown",
   "metadata": {},
   "source": [
    "### *從回應的 JSON 文字取出所需資料*\n",
    "\n",
    "Foreign exchange rates API 網站：https://exchangeratesapi.io/"
   ]
  },
  {
   "cell_type": "code",
   "execution_count": null,
   "metadata": {},
   "outputs": [],
   "source": [
    "import requests, pprint\n",
    "\n",
    "url = 'https://api.exchangeratesapi.io/latest'\n",
    "\n",
    "response = requests.get(url)\n",
    "data = response.json()\n",
    "pprint.pprint(data)"
   ]
  },
  {
   "cell_type": "code",
   "execution_count": null,
   "metadata": {},
   "outputs": [],
   "source": [
    "data['rates']"
   ]
  },
  {
   "cell_type": "code",
   "execution_count": null,
   "metadata": {},
   "outputs": [],
   "source": [
    "data['rates']['IDR']"
   ]
  },
  {
   "cell_type": "markdown",
   "metadata": {},
   "source": [
    "### *在程式重複查詢服務並取回資料*\n",
    "\n",
    "World Time API 網站: http://worldtimeapi.org/"
   ]
  },
  {
   "cell_type": "code",
   "execution_count": null,
   "metadata": {},
   "outputs": [],
   "source": [
    "import requests, pprint\n",
    "\n",
    "url = 'http://worldtimeapi.org/api/ip'\n",
    "\n",
    "data = requests.get(url).json()\n",
    "pprint.pprint(data)"
   ]
  },
  {
   "cell_type": "code",
   "execution_count": null,
   "metadata": {},
   "outputs": [],
   "source": [
    "# 此程式不會停止, 執行後按停止鈕來中止它\n",
    "\n",
    "import requests, time\n",
    "\n",
    "url = 'http://worldtimeapi.org/api/ip'\n",
    "\n",
    "while True:\n",
    "    data = requests.get(url).json()\n",
    "    print(data['datetime'])\n",
    "    time.sleep(5)"
   ]
  },
  {
   "cell_type": "markdown",
   "metadata": {},
   "source": [
    "### *確保網路服務有正確回應*"
   ]
  },
  {
   "cell_type": "code",
   "execution_count": null,
   "metadata": {},
   "outputs": [],
   "source": [
    "# 沿用上一小節的模組及 url\n",
    "\n",
    "response = requests.get(url)\n",
    "\n",
    "if response.status_code == requests.codes.ok:\n",
    "    data = response.json()\n",
    "    print(data['datetime'])\n",
    "else:\n",
    "    print('網路服務查詢失敗')"
   ]
  },
  {
   "cell_type": "markdown",
   "metadata": {},
   "source": [
    "### *在查詢服務時使用參數*\n",
    "\n",
    "Sunset and sunrise times API 網站：https://sunrise-sunset.org/api"
   ]
  },
  {
   "cell_type": "code",
   "execution_count": null,
   "metadata": {},
   "outputs": [],
   "source": [
    "import requests, pprint\n",
    "\n",
    "url = 'https://api.sunrise-sunset.org/json?lat=22.753773&lng=121.166549'\n",
    "data = requests.get(url).json()\n",
    "pprint.pprint(data)"
   ]
  },
  {
   "cell_type": "code",
   "execution_count": null,
   "metadata": {},
   "outputs": [],
   "source": [
    "latitude = 52.286998\n",
    "longitude = 104.286992\n",
    "\n",
    "url = f'https://api.sunrise-sunset.org/json?lat={latitude}&lng={longitude}'\n",
    "data = requests.get(url).json()\n",
    "pprint.pprint(data)"
   ]
  },
  {
   "cell_type": "markdown",
   "metadata": {},
   "source": [
    "## 10-3 網路服務實用範例：中央氣象局 36 小時天氣預報\n",
    "\n",
    "資料擷取 API 線上說明文件：https://opendata.cwb.gov.tw/dist/opendata-swagger.html"
   ]
  },
  {
   "cell_type": "markdown",
   "metadata": {},
   "source": [
    "### *了解服務傳回的 JSON 資料之結構*"
   ]
  },
  {
   "cell_type": "code",
   "execution_count": null,
   "metadata": {},
   "outputs": [],
   "source": [
    "import requests, pprint\n",
    "\n",
    "url = 'https://opendata.cwb.gov.tw/api/v1/rest/datastore/F-C0032-001?Authorization=rdec-key-123-45678-011121314&locationName=連江縣'\n",
    "\n",
    "data = requests.get(url).json()\n",
    "pprint.pprint(data)"
   ]
  },
  {
   "cell_type": "code",
   "execution_count": null,
   "metadata": {},
   "outputs": [],
   "source": [
    "data['records']['location'][0]['weatherElement'][1]['time']"
   ]
  },
  {
   "cell_type": "markdown",
   "metadata": {},
   "source": [
    "### *走訪資料*"
   ]
  },
  {
   "cell_type": "code",
   "execution_count": null,
   "metadata": {},
   "outputs": [],
   "source": [
    "# 沿用上一小節的模組及 data\n",
    "\n",
    "pop = data['records']['location'][0]['weatherElement'][1]['time']\n",
    "\n",
    "for p in pop:\n",
    "    print('預報區間', p['startTime'], '~', p['endTime'])\n",
    "    print('降雨機率:', p['parameter']['parameterName'] + '%')\n",
    "    print()"
   ]
  },
  {
   "cell_type": "markdown",
   "metadata": {},
   "source": [
    "## 10-4 網路資料圖形化：以地震震度統計為例\n",
    "\n",
    "GeoJSON API 網站：https://earthquake.usgs.gov/earthquakes/feed/v1.0/geojson.php"
   ]
  },
  {
   "cell_type": "markdown",
   "metadata": {},
   "source": [
    "### *取出地震震度*"
   ]
  },
  {
   "cell_type": "code",
   "execution_count": null,
   "metadata": {},
   "outputs": [],
   "source": [
    "import requests, pprint\n",
    "\n",
    "url = 'https://earthquake.usgs.gov/earthquakes/feed/v1.0/summary/2.5_week.geojson'\n",
    "\n",
    "data = requests.get(url).json()\n",
    "pprint.pprint(data)"
   ]
  },
  {
   "cell_type": "code",
   "execution_count": null,
   "metadata": {},
   "outputs": [],
   "source": [
    "quakes = data['features']\n",
    "mag = quakes[0]['properties']['mag']\n",
    "\n",
    "print(mag)"
   ]
  },
  {
   "cell_type": "markdown",
   "metadata": {},
   "source": [
    "### *統計各種地震規模的數量*"
   ]
  },
  {
   "cell_type": "code",
   "execution_count": null,
   "metadata": {},
   "outputs": [],
   "source": [
    "# 沿用上一小節的模組及 data\n",
    "\n",
    "quakes = data['features']\n",
    "mag_label = ['未滿3級', '3~4級', '4~5級', '5~6級', '6級以上']\n",
    "mag_list = [0, 0, 0, 0, 0]\n",
    "\n",
    "for q in quakes:\n",
    "    mag = q['properties']['mag']\n",
    "    if mag >= 6:\n",
    "        mag_list[4] += 1\n",
    "    elif mag >= 5:\n",
    "        mag_list[3] += 1\n",
    "    elif mag >= 4:\n",
    "        mag_list[2] += 1\n",
    "    elif mag >= 3:\n",
    "        mag_list[1] += 1\n",
    "    else:\n",
    "        mag_list[0] += 1\n",
    "\n",
    "print(mag_list)"
   ]
  },
  {
   "cell_type": "markdown",
   "metadata": {},
   "source": [
    "### *繪製長條圖與圓餅圖*"
   ]
  },
  {
   "cell_type": "code",
   "execution_count": null,
   "metadata": {},
   "outputs": [],
   "source": [
    "# 沿用上一小節的模組及 mag_label/mag_list\n",
    "\n",
    "import matplotlib.pyplot as plt\n",
    "\n",
    "plt.rcParams['font.family'] = ['Microsoft JhengHei']   # 參閱第 8 章\n",
    "\n",
    "plt.bar(mag_label, mag_list)\n",
    "plt.show()\n",
    "\n",
    "plt.pie(mag_list, labels=mag_label, autopct='%1.1f%%')\n",
    "plt.show()"
   ]
  },
  {
   "cell_type": "markdown",
   "metadata": {},
   "source": [
    "## (bonus) 查詢全球新冠肺炎疫情"
   ]
  },
  {
   "cell_type": "code",
   "execution_count": null,
   "metadata": {},
   "outputs": [],
   "source": [
    "import requests, pprint\n",
    "\n",
    "url = 'https://coronavirus-19-api.herokuapp.com/countries'\n",
    "data = requests.get(url).json()\n",
    "\n",
    "for record in data:\n",
    "    print(f\"[{record['country']:25s}] {record['cases']:10d} 例 (今日新增 {record['todayCases']} 例)\")"
   ]
  },
  {
   "cell_type": "code",
   "execution_count": null,
   "metadata": {},
   "outputs": [],
   "source": []
  }
 ],
 "metadata": {
  "kernelspec": {
   "display_name": "Python 3",
   "language": "python",
   "name": "python3"
  },
  "language_info": {
   "codemirror_mode": {
    "name": "ipython",
    "version": 3
   },
   "file_extension": ".py",
   "mimetype": "text/x-python",
   "name": "python",
   "nbconvert_exporter": "python",
   "pygments_lexer": "ipython3",
   "version": "3.8.8"
  }
 },
 "nbformat": 4,
 "nbformat_minor": 4
}
